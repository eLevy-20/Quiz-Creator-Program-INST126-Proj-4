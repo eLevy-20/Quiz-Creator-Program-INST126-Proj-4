{
 "cells": [
  {
   "cell_type": "code",
   "execution_count": 2,
   "metadata": {},
   "outputs": [],
   "source": [
    "#keep the below two lines in separate cells \n",
    "user_pool = {}\n",
    "used_usernames = []\n"
   ]
  },
  {
   "cell_type": "code",
   "execution_count": 7,
   "metadata": {},
   "outputs": [
    {
     "name": "stdout",
     "output_type": "stream",
     "text": [
      "Hello, Welcome to the Quiz Creater!\n",
      "If you want to log in, please enter 1; if you want to create an account, please enter 2: 1\n"
     ]
    }
   ],
   "source": [
    "#login page:\n",
    "print(\"Hello, Welcome to the Quiz Creater!\")\n",
    "choice=input(\"If you want to log in, please enter 1; if you want to create an account, please enter 2: \")\n",
    "if choice==1:\n",
    "  log_in()\n",
    "if choice==2:\n",
    "  add_user()\n",
    "\n",
    "\n"
   ]
  },
  {
   "cell_type": "code",
   "execution_count": 4,
   "metadata": {},
   "outputs": [],
   "source": [
    "def add_user():\n",
    "    #for name in user_pool:\n",
    "    username = input(\"Choose a username: \")\n",
    "    #used_usernames.append(username)\n",
    "    while username in user_pool:\n",
    "        #username = input(\"Choose a username:\")\n",
    "        #if username in used_usernames:\n",
    "        username = input(\"Try another username that does not already exist: \")\n",
    "\n",
    "        \n",
    "    \n",
    "    firstname = input(\"What is your first name?: \")\n",
    "    lastname = input(\"what is your last name?: \")\n",
    "    signup_password = input(\"Please enter a password.: \")\n",
    "    admin = input(\"Are you a Student or Administrator? \\nEnter 's' for Student and 'a' for administrator. : \")\n",
    "    admin = (admin.lower() == \"a\")\n",
    "\n",
    "        \n",
    "    user_pool[username] = { \"firstname\": firstname, \n",
    "                            \"lastname\" : lastname,\n",
    "                             \"signup_password\": password, \n",
    "                             \"admin\": admin, \n",
    "                             \"quiz_responses\": [] \n",
    "                             }            \n",
    "            \n"
   ]
  },
  {
   "cell_type": "code",
   "execution_count": null,
   "metadata": {},
   "outputs": [],
   "source": [
    "def log_in():\n",
    "  #LOGIN PROMPT\n",
    "   print(\"Welcome to the quiz creator!\")\n",
    "   user = \"\"\n",
    "   login_username = input(\"Enter your username: \")\n",
    "   login_password = input(\"Enter your password: \")\n",
    "\n",
    "  for user in user_pool.values(): \n",
    "    if username in user_pool:\n",
    "      if signup_password == login_password:\n",
    "        print(\"logging you in now.\")\n",
    "          if ['admin'] == True:\n",
    "            return (adminmenu())\n",
    "          else:\n",
    "            return (studentmenu())\n",
    "      if (user_pool['username']) == login_username:\n",
    "        print(\"username success\")\n",
    "        if (user_pool['signup_password']) == login_password:\n",
    "          print(\"password success\") \n",
    "#are these if statements indented properly   \n",
    "#end of log in"
   ]
  },
  {
   "cell_type": "code",
   "execution_count": 8,
   "metadata": {},
   "outputs": [
    {
     "ename": "IndentationError",
     "evalue": "expected an indented block (<ipython-input-8-02b88b2de770>, line 4)",
     "output_type": "error",
     "traceback": [
      "\u001b[1;36m  File \u001b[1;32m\"<ipython-input-8-02b88b2de770>\"\u001b[1;36m, line \u001b[1;32m4\u001b[0m\n\u001b[1;33m    available_quizzes = []\u001b[0m\n\u001b[1;37m    ^\u001b[0m\n\u001b[1;31mIndentationError\u001b[0m\u001b[1;31m:\u001b[0m expected an indented block\n"
     ]
    }
   ],
   "source": [
    "def adminmenu():\n",
    "\n",
    "  def get_quiz_selection(): \n",
    "  available_quizzes = []\n",
    "  for key in quiz_bank.keys():\n",
    "    available_quizzes.append(key)\n",
    "  for idx, key in available_quizzes.enumerate():\n",
    "    print(f\"{idx}\\t{key}\")\n",
    "    selection = int(input(\"Your choice: \"))\n",
    "  return\n",
    "    available_quizzes[selection]"
   ]
  },
  {
   "cell_type": "code",
   "execution_count": 9,
   "metadata": {},
   "outputs": [
    {
     "ename": "SyntaxError",
     "evalue": "invalid syntax (<ipython-input-9-a496eaf6a182>, line 6)",
     "output_type": "error",
     "traceback": [
      "\u001b[1;36m  File \u001b[1;32m\"<ipython-input-9-a496eaf6a182>\"\u001b[1;36m, line \u001b[1;32m6\u001b[0m\n\u001b[1;33m    else adminmenu_action == \"Remove Quiz\":\u001b[0m\n\u001b[1;37m         ^\u001b[0m\n\u001b[1;31mSyntaxError\u001b[0m\u001b[1;31m:\u001b[0m invalid syntax\n"
     ]
    }
   ],
   "source": [
    "print(\"Admin Functions Are Listed Below\")\n",
    "adminmenu_action = input(\"Please Select A Function From the List(Create Quiz/Remove Quiz/Check Student Results)\")\n",
    "if adminmenu_action == \"Create Quiz\":\n",
    "  createquiz()\n",
    "\n",
    "else adminmenu_action == \"Remove Quiz\":\n",
    "  get_quiz_selection()\n",
    "  delete_quiz()\n",
    "  \n",
    "  \n",
    "  def delete_quiz():\n",
    "    print(\"Select a quiz to delete: \")\n",
    "    to_delete = get_quiz_selection()\n",
    "    quiz_bank.remove(to_delete)"
   ]
  },
  {
   "cell_type": "code",
   "execution_count": 10,
   "metadata": {},
   "outputs": [],
   "source": [
    "quizscore = {\n",
    "    \"student\":\"Timmy\",\n",
    "    \"quiz\": \"INST126 - Satyarth Praveen - Test Quiz\",\n",
    "    \"correct\": [True, False],\n",
    "    \"date_time\" : \"22/12/2020 11:34\",\n",
    "    \"score\": 0.5\n",
    "}\n"
   ]
  },
  {
   "cell_type": "code",
   "execution_count": 24,
   "metadata": {},
   "outputs": [],
   "source": [
    "#ADMIN FUNCTIONS\n",
    "\n",
    "#Quiz Creation for admin\n",
    "def createquiz():\n",
    "    \n",
    "\n",
    "    quiz = {\"questions\": [],\n",
    "            \"answers\": []\n",
    "           }\n",
    "    #diplay message for quiz creation. Create quiz for students to take\n",
    "    #When completed the quiz will be saved to the quiz bank for \n",
    "    #all users to see\n",
    "    # for example\n",
    "\n",
    "    #ask admin to create quiz title in this format: Class code - Prof name - Quiz name\"\n",
    "    quiztitle = input(\"Enter quiz TITLE in this format: Class code - Prof name - Quiz name:\" )\n",
    "\n",
    "    while True:\n",
    "        question = {\"body\" : \"\",\n",
    "                    \"choices\" : []\n",
    "                   }\n",
    "        quizquestion = input(\"Enter a quiz QUESTION:\")\n",
    "        #sets the body to the text in the quizquestion\n",
    "        question['body'] = quizquestion\n",
    "    #ask them to add question to quiz.\n",
    "        #ask for input \"what is your question\",\n",
    "                #\"What color is the sky?\"\n",
    "            #the entered question gets added as a string to \n",
    "            #the dict \"body\" as the value   \n",
    "        while True:\n",
    "            getchoice = input(\"Enter the answer choice LETTER:\")\n",
    "            gettext = input(\"Enter the answer choice TEXT:\")\n",
    "        \n",
    "            choice = (getchoice.lower(), gettext)\n",
    "            question['choices'].append(choice)\n",
    "        \n",
    "            addchoice = input(\"Do you want to add another CHOICE? Y/N:\")\n",
    "            if addchoice.lower() == \"n\":\n",
    "                break\n",
    "        correctanswer = input(\"What is the correct choice LETTER? \\nOnly enter the letter!\").lower()\n",
    "        quiz['questions'].append(question)\n",
    "        quiz['answers'].append(correctanswer)\n",
    "    \n",
    "    #CHOICE PROCESS\n",
    "        #ask user to select the letter of the choice\n",
    "            #the inputed letter gets added to choiceletter\n",
    "                #choiceletter = \"\"\n",
    "                    #\"a\"\n",
    "            #ask for input \"what is the answer choice text?\"\n",
    "            #admin enters the first answer choice text.\n",
    "                #choicetext = \"\"\n",
    "                    #\"Blue\"\n",
    "            #tuple is formated as (choiceletter,choicetext)\n",
    "                #(\"a\",\"Blue\")\n",
    "            #the tuple will be added to the dict \"choices\n",
    "        #when the admin has completed adding questions,\n",
    "        #N brings user to ask \"do you want to submit quiz to quiz bank?\n",
    "        \n",
    "        \n",
    "     #ask the admin \"do you want to add a question? Y/N\"\n",
    "    \n",
    "        addagain = input(\"Do you want to add another QUESTION? Y/N:\")\n",
    "        if addagain.lower() == \"n\":\n",
    "            break\n",
    "    submitquiz = input(\"Do you want to SUBMIT the quiz to the QUIZ BANK? Y/N:\")\n",
    "    if submitquiz.lower() == \"y\":\n",
    "        quiz_bank[quiztitle] = quiz\n",
    "    \n",
    "    print(quiz_bank)"
   ]
  },
  {
   "cell_type": "code",
   "execution_count": 25,
   "metadata": {},
   "outputs": [
    {
     "ename": "NameError",
     "evalue": "name 'quiz_bank' is not defined",
     "output_type": "error",
     "traceback": [
      "\u001b[1;31m---------------------------------------------------------------------------\u001b[0m",
      "\u001b[1;31mNameError\u001b[0m                                 Traceback (most recent call last)",
      "\u001b[1;32m<ipython-input-25-27c9d3f1ddf4>\u001b[0m in \u001b[0;36m<module>\u001b[1;34m\u001b[0m\n\u001b[0;32m      1\u001b[0m \u001b[0mavailable_quizzes\u001b[0m \u001b[1;33m=\u001b[0m \u001b[1;33m[\u001b[0m\u001b[1;33m]\u001b[0m\u001b[1;33m\u001b[0m\u001b[1;33m\u001b[0m\u001b[0m\n\u001b[1;32m----> 2\u001b[1;33m \u001b[1;32mfor\u001b[0m \u001b[0mkey\u001b[0m \u001b[1;32min\u001b[0m \u001b[0mquiz_bank\u001b[0m\u001b[1;33m.\u001b[0m\u001b[0mkeys\u001b[0m\u001b[1;33m(\u001b[0m\u001b[1;33m)\u001b[0m\u001b[1;33m:\u001b[0m\u001b[1;33m\u001b[0m\u001b[1;33m\u001b[0m\u001b[0m\n\u001b[0m\u001b[0;32m      3\u001b[0m     \u001b[0mavailable_quizzes\u001b[0m\u001b[1;33m.\u001b[0m\u001b[0mappend\u001b[0m\u001b[1;33m(\u001b[0m\u001b[0mkey\u001b[0m\u001b[1;33m)\u001b[0m\u001b[1;33m\u001b[0m\u001b[1;33m\u001b[0m\u001b[0m\n\u001b[0;32m      4\u001b[0m \u001b[1;31m# now show the the list\u001b[0m\u001b[1;33m\u001b[0m\u001b[1;33m\u001b[0m\u001b[1;33m\u001b[0m\u001b[0m\n\u001b[0;32m      5\u001b[0m \u001b[1;32mfor\u001b[0m \u001b[0midx\u001b[0m\u001b[1;33m,\u001b[0m \u001b[0mkey\u001b[0m \u001b[1;32min\u001b[0m \u001b[0mavailable_quzzes\u001b[0m\u001b[1;33m.\u001b[0m\u001b[0menumerate\u001b[0m\u001b[1;33m(\u001b[0m\u001b[1;33m)\u001b[0m\u001b[1;33m:\u001b[0m\u001b[1;33m\u001b[0m\u001b[1;33m\u001b[0m\u001b[0m\n",
      "\u001b[1;31mNameError\u001b[0m: name 'quiz_bank' is not defined"
     ]
    }
   ],
   "source": [
    "available_quizzes = []\n",
    "for key in quiz_bank.keys():\n",
    "    available_quizzes.append(key)\n",
    "# now show the the list\n",
    "for idx, key in available_quzzes.enumerate():\n",
    "    print(f\"{idx}\\t{key}\")\n",
    "# now if a user gives a number, then available_quizzes[number] gives you the key to get the quiz from the quiz bank\n",
    "\n",
    "\n",
    "createquiz()\n",
    "\n",
    "\n",
    "#Quiz Presenter\n",
    "from datetime import datetime\n",
    "def quizpresenter(quiz):  \n",
    " #quiz presenter\n",
    "  selections = []\n",
    "  for question in quiz:\n",
    "    print(question[\"body\"])\n",
    "    print(question[\"choices\"])\n",
    "    user_answer = input(\"selections:\").lower()\n",
    "    selections.append(user_answer)\n",
    "  now = datetime.now()\n",
    "  date_time_format = now.strftime('%d/%m/%Y %H:%M')\n",
    "  print(\"You finished the quiz\")"
   ]
  },
  {
   "cell_type": "code",
   "execution_count": 19,
   "metadata": {},
   "outputs": [],
   "source": [
    "    #% of correct answers\n",
    "    #calculate score by total number of correct = True and divide by \n",
    "    #total number of questions\n",
    "#quizscore = {\n",
    "#    \"student\":\"Timmy\",\n",
    "#    \"quiz\": \"INST126 - Satyarth Praveen - Test Quiz\",\n",
    "#    \"correct\": [True, False],\n",
    "#    \"date_time\" : \"22/12/2020 11:34\",\n",
    "#    \"score\": 0.5\n",
    "#}\n",
    "\n"
   ]
  },
  {
   "cell_type": "code",
   "execution_count": 20,
   "metadata": {},
   "outputs": [
    {
     "ename": "IndentationError",
     "evalue": "expected an indented block (<ipython-input-20-94835f4e9bff>, line 5)",
     "output_type": "error",
     "traceback": [
      "\u001b[1;36m  File \u001b[1;32m\"<ipython-input-20-94835f4e9bff>\"\u001b[1;36m, line \u001b[1;32m5\u001b[0m\n\u001b[1;33m    available_quizzes = []\u001b[0m\n\u001b[1;37m    ^\u001b[0m\n\u001b[1;31mIndentationError\u001b[0m\u001b[1;31m:\u001b[0m expected an indented block\n"
     ]
    }
   ],
   "source": [
    "#student menu\n",
    "\n",
    "def studentmenu():\n",
    "\n",
    "available_quizzes = []\n",
    "for key in quiz_bank.keys():\n",
    "    available_quizzes.append(key)\n",
    "# now show the the list\n",
    "for idx, key in available_quzzes.enumerate():\n",
    "    print(f”{idx}\\t{key}”)\n",
    "# now if a user gives a number, then available_quizzes[number] gives you the key to get the quiz from the quiz bank"
   ]
  },
  {
   "cell_type": "code",
   "execution_count": 21,
   "metadata": {},
   "outputs": [
    {
     "ename": "SyntaxError",
     "evalue": "invalid character in identifier (<ipython-input-21-18b012d34c2b>, line 3)",
     "output_type": "error",
     "traceback": [
      "\u001b[1;36m  File \u001b[1;32m\"<ipython-input-21-18b012d34c2b>\"\u001b[1;36m, line \u001b[1;32m3\u001b[0m\n\u001b[1;33m    print(“Please select a quiz to delete: ”)\u001b[0m\n\u001b[1;37m                ^\u001b[0m\n\u001b[1;31mSyntaxError\u001b[0m\u001b[1;31m:\u001b[0m invalid character in identifier\n"
     ]
    }
   ],
   "source": [
    "#admin function\n",
    "def delete_quiz():\n",
    "    print(“Please select a quiz to delete: ”)\n",
    "    to_delete = get_quiz_selection()\n",
    "    sure = input(f”Are you sure you want to delete {to_delete}? (Y/N): ”)\n",
    "    if sure.lower() == “y”:\n",
    "        quiz_bank.pop(to_delete)\n"
   ]
  },
  {
   "cell_type": "code",
   "execution_count": 22,
   "metadata": {},
   "outputs": [
    {
     "ename": "SyntaxError",
     "evalue": "invalid character in identifier (<ipython-input-22-bb0fcf3fa034>, line 7)",
     "output_type": "error",
     "traceback": [
      "\u001b[1;36m  File \u001b[1;32m\"<ipython-input-22-bb0fcf3fa034>\"\u001b[1;36m, line \u001b[1;32m7\u001b[0m\n\u001b[1;33m    print(f”{idx}\\t{key}”)\u001b[0m\n\u001b[1;37m           ^\u001b[0m\n\u001b[1;31mSyntaxError\u001b[0m\u001b[1;31m:\u001b[0m invalid character in identifier\n"
     ]
    }
   ],
   "source": [
    "def get_quiz_selection():\n",
    "    available_quizzes = []\n",
    "    for key in quiz_bank.keys():\n",
    "        available_quizzes.append(key)\n",
    "    # now show the the list\n",
    "    for idx, key in available_quizzes.enumerate():\n",
    "        print(f”{idx}\\t{key}”)\n",
    "    selection = int(input(“Your choice: “))\n",
    "    return available_quizzes[selection]\n",
    "\n",
    "from datetime import datetime\n",
    "def present_quiz(username):\n",
    "    print(“Please select a quiz to take: ”)\n",
    "    to_take = get_quiz_selection()\n",
    "    sure = input(f”Is {to_take} the quiz you want to take? Y/N”)\n",
    "    if sure.lower() == “y”:\n",
    "        quiz = quiz_bank[to_take]\n",
    "        quizresponse = make_quizresponse(username, datetime.now().strftime('%d/%m/%Y %H:%M'), to_take)\n",
    "        for question in quiz[questions]:\n",
    "           print(question[\"body\"])\n",
    "           print(question[\"choices\"]) \n",
    "           #input the letter\n",
    "           user_answer = input(\"Enter the letter of the correct answer choice: \").lower()\n",
    "           #add that answer to quizresponse['selections']\n",
    "           quizresponse['selections'].append(user_answer)\n",
    "        submituserquiz = input(\"Do you want to SUBMIT your quiz for grading? Y/N: \").lower()\n",
    "        if submituserquiz == \"y\":\n",
    "          #MAKE SURE TO SEND TO QUIZRESPONSE PROFILE\n",
    "          num_correct = 0\n",
    "          # x = [ \"a\", \"b\" ] \n",
    "          # y = [ \"a\", \"c\" ]\n",
    "          # zip(x, y) -> [ (\"a\", \"a\"), (\"b\", \"c\") ]\n",
    "          for response, answer in zip(quizresponse[\"responses\"], quiz[\"answers\"]):\n",
    "            is_correct = (response == answer)\n",
    "            if is_correct:\n",
    "              num_correct += 1\n",
    "            quizresponse[\"correct\"].append(is_correct)\n",
    "            \n",
    "          quizresponse[\"score\"] = num_correct / len(quizresponse[\"selections\"])\n",
    "          # empty list created when user created\n",
    "          user_pool[username][\"quiz_responses\"].append(quizresponse)\n",
    "       \n",
    " \n",
    "          #grade them by comparing student responses to correct answers. len of correct answers / number of correct student responses = score.\n",
    "          #save score to user profile as a dictionary where key is \n",
    "\n",
    "\n",
    "def make_quizresponse(name, date, quiz, selections = []):\n",
    "  quiz = {\"student\": name, \"date_time\":date, \"quiz\":quiz, \"selections\": selections, \"correct\": []}\n",
    "  return(quiz)"
   ]
  },
  {
   "cell_type": "code",
   "execution_count": null,
   "metadata": {},
   "outputs": [],
   "source": []
  },
  {
   "cell_type": "code",
   "execution_count": null,
   "metadata": {},
   "outputs": [],
   "source": []
  },
  {
   "cell_type": "code",
   "execution_count": null,
   "metadata": {},
   "outputs": [],
   "source": []
  }
 ],
 "metadata": {
  "kernelspec": {
   "display_name": "Python 3",
   "language": "python",
   "name": "python3"
  },
  "language_info": {
   "codemirror_mode": {
    "name": "ipython",
    "version": 3
   },
   "file_extension": ".py",
   "mimetype": "text/x-python",
   "name": "python",
   "nbconvert_exporter": "python",
   "pygments_lexer": "ipython3",
   "version": "3.8.5"
  }
 },
 "nbformat": 4,
 "nbformat_minor": 4
}
